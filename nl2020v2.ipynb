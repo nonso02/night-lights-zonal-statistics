{
 "cells": [
  {
   "cell_type": "code",
   "execution_count": null,
   "id": "95d42417",
   "metadata": {},
   "outputs": [],
   "source": [
    "import ee\n",
    "import geemap\n",
    "import os"
   ]
  },
  {
   "cell_type": "code",
   "execution_count": null,
   "id": "faeab2a8",
   "metadata": {
    "scrolled": true
   },
   "outputs": [],
   "source": [
    "geemap.show_youtube('ou-Xm3CLitM')"
   ]
  },
  {
   "cell_type": "code",
   "execution_count": null,
   "id": "bfac6574",
   "metadata": {},
   "outputs": [],
   "source": [
    "Map = geemap.Map()\n",
    "Map"
   ]
  },
  {
   "cell_type": "code",
   "execution_count": null,
   "id": "7aedb4d2",
   "metadata": {},
   "outputs": [],
   "source": [
    "dem = ee.ImageCollection(\"NOAA/VIIRS/DNB/MONTHLY_V1/VCMSLCFG\").filterDate(\"2016-01-01\",\"2017-12-31\").select('avg_rad')\n",
    "\n",
    "# Set visualization parameters.\n",
    "dem_vis = {\n",
    "    'min': 0,\n",
    "    'max': 980,\n",
    "    #'palette': ['006633', 'E5FFCC', '662A00', 'D8D8D8', 'F5F5F5'],\n",
    "}\n",
    "\n",
    "# Add Earth Engine DEM to map\n",
    "Map.addLayer(dem)\n",
    "\n",
    "#ADM Level 2 aka LGAs ussed again\n",
    "states = ee.FeatureCollection(\"FAO/GAUL/2015/level2\").filter(ee.Filter.eq('ADM0_NAME', 'Nigeria'))\n",
    "Map.addLayer(states, {}, 'Nig LGA')"
   ]
  },
  {
   "cell_type": "code",
   "execution_count": null,
   "id": "4992a63b",
   "metadata": {},
   "outputs": [],
   "source": [
    "out_dir = os.path.join(os.path.expanduser('~'), 'Downloads')\n",
    "out_dem_stats = os.path.join(out_dir, 'lga_stats.csv')\n",
    "\n",
    "if not os.path.exists(out_dir):\n",
    "    os.makedirs(out_dir)\n",
    "\n",
    "# Allowed output formats: csv, shp, json, kml, kmz\n",
    "# Allowed statistics type: MEAN, MAXIMUM, MINIMUM, MEDIAN, STD, MIN_MAX, VARIANCE, SUM\n",
    "geemap.zonal_statistics(dem, states, out_dem_stats, statistics_type='MEAN', scale=1000)"
   ]
  },
  {
   "cell_type": "code",
   "execution_count": null,
   "id": "c6dfe911",
   "metadata": {},
   "outputs": [],
   "source": []
  }
 ],
 "metadata": {
  "kernelspec": {
   "display_name": "Python 3 (ipykernel)",
   "language": "python",
   "name": "python3"
  },
  "language_info": {
   "codemirror_mode": {
    "name": "ipython",
    "version": 3
   },
   "file_extension": ".py",
   "mimetype": "text/x-python",
   "name": "python",
   "nbconvert_exporter": "python",
   "pygments_lexer": "ipython3",
   "version": "3.10.7"
  }
 },
 "nbformat": 4,
 "nbformat_minor": 5
}
